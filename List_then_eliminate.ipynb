{
 "cells": [
  {
   "cell_type": "code",
   "execution_count": 1,
   "metadata": {
    "collapsed": false,
    "deletable": true,
    "editable": true
   },
   "outputs": [
    {
     "data": {
      "text/plain": [
       "[('Sunny', 'Warm', '?', 'Strong', '?', '?'),\n",
       " ('Sunny', 'Warm', '?', '?', '?', '?'),\n",
       " ('Sunny', '?', '?', 'Strong', '?', '?'),\n",
       " ('Sunny', '?', '?', '?', '?', '?'),\n",
       " ('?', 'Warm', '?', 'Strong', '?', '?'),\n",
       " ('?', 'Warm', '?', '?', '?', '?')]"
      ]
     },
     "execution_count": 1,
     "metadata": {},
     "output_type": "execute_result"
    }
   ],
   "source": [
    "#List_then_eliminate\n",
    "\n",
    "import numpy as np\n",
    "\n",
    "import itertools\n",
    "\n",
    "x = np.array([['Sunny','Warm','Normal','Strong','Warm','Same'],\n",
    " ['Sunny','Warm','High','Strong','Warm','Same'],\n",
    " ['Rainy','Cold','High','Strong','Warm','Change'],\n",
    " ['Sunny','Warm','High','Strong','Cool','Change'] ])\n",
    " \n",
    "y = ['+', '+', '-', '+']\n",
    "\n",
    "t = np.transpose(x)\n",
    "\n",
    "hypothesis=[]\n",
    "\n",
    "attribute_values = [set(np.append(i,'?')) for i in t]\n",
    "\n",
    "for j in itertools.product(*attribute_values):\n",
    "    hypothesis.append(j)\n",
    "    \n",
    "def check(hypothesis, instance, expected_label):\n",
    "    calculated_label = None\n",
    "    for i in range (np.size(hypothesis)):\n",
    "        if(hypothesis[i] != instance[i] and hypothesis[i] != '?'):\n",
    "            calculated_label='-'\n",
    "    if (calculated_label is None):\n",
    "        calculated_label='+'\n",
    "\n",
    "    return calculated_label==expected_label\n",
    "\n",
    "def list_then_eliminate(all_hypothesis, all_instances, all_labels):\n",
    "   \n",
    "    hypothesis_count,columns = np.shape(all_hypothesis)\n",
    "    instance_count,columns = np.shape(all_instances)\n",
    "    viable_hypothesis=[]\n",
    "    \n",
    "    \n",
    "    for i in range (hypothesis_count):\n",
    "        result = True\n",
    "        for j in range (instance_count):\n",
    "             result = result and check(all_hypothesis[i],all_instances[j],all_labels[j])\n",
    "        if(result==True):\n",
    "            viable_hypothesis.append(all_hypothesis[i])\n",
    "    return viable_hypothesis\n",
    "\n",
    "check(np.array(['?','Warm','High','Strong','?','Same']),\n",
    "      np.array(['Sunny','Warm','High','Strong','Warm','Same']),\n",
    "      '+')\n",
    "\n",
    "\n",
    "result=list_then_eliminate(hypothesis, x, y)\n",
    "result  \n",
    "\n",
    " "
   ]
  }
 ],
 "metadata": {
  "anaconda-cloud": {},
  "kernelspec": {
   "display_name": "Python 2",
   "language": "python",
   "name": "python2"
  },
  "language_info": {
   "codemirror_mode": {
    "name": "ipython",
    "version": 2
   },
   "file_extension": ".py",
   "mimetype": "text/x-python",
   "name": "python",
   "nbconvert_exporter": "python",
   "pygments_lexer": "ipython2",
   "version": "2.7.12+"
  }
 },
 "nbformat": 4,
 "nbformat_minor": 1
}
